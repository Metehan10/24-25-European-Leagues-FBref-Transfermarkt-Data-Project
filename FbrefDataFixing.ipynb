{
 "cells": [
  {
   "cell_type": "code",
   "execution_count": 1,
   "id": "d1b6932b-ae5d-401d-9b6c-abe4d4d4153e",
   "metadata": {},
   "outputs": [],
   "source": [
    "import pandas as pd\n",
    "import os"
   ]
  },
  {
   "cell_type": "code",
   "execution_count": 2,
   "id": "0b7c1a4d-1e28-4b11-8260-aa85eb32b593",
   "metadata": {},
   "outputs": [],
   "source": [
    "# Excel dosyalarının bulunduğu klasör\n",
    "klasor_yolu = r\"C:/Users/user/Desktop/PROJELER/FutbolcuOneri/fbref/CSV\"\n",
    "guncellenmis_klasor = os.path.join(klasor_yolu, \"Guncellenmis\")"
   ]
  },
  {
   "cell_type": "code",
   "execution_count": 4,
   "id": "b330f526-b5a8-49f6-9115-e7cddff913ae",
   "metadata": {
    "scrolled": true
   },
   "outputs": [],
   "source": [
    "# Anahtar kelime → Lig adı eşlemesi\n",
    "lig_haritasi = {\n",
    "    \"Belcika\": \"be Jupiler Pro League\",\n",
    "    \"Hollanda\": \"nl Eredivisie\",\n",
    "    \"Portekiz\": \"pt Liga Portugal\",\n",
    "    \"IngiltereIkinci\": \"en2 Championship\"\n",
    "}"
   ]
  },
  {
   "cell_type": "code",
   "execution_count": 5,
   "id": "06d027ed-322a-4c0e-8375-cce4af2e5aea",
   "metadata": {},
   "outputs": [
    {
     "name": "stdout",
     "output_type": "stream",
     "text": [
      "BelcikaAdvancedGoalkeeping.xlsx işlendi ve be Jupiler Pro League bilgisi eklendi.\n",
      "BelcikaDefensiveAction.xlsx işlendi ve be Jupiler Pro League bilgisi eklendi.\n",
      "BelcikaGoalkeeping.xlsx işlendi ve be Jupiler Pro League bilgisi eklendi.\n",
      "BelcikaMiscellaneousStats.xlsx işlendi ve be Jupiler Pro League bilgisi eklendi.\n",
      "BelcikaPassing.xlsx işlendi ve be Jupiler Pro League bilgisi eklendi.\n",
      "BelcikaPassingTypes.xlsx işlendi ve be Jupiler Pro League bilgisi eklendi.\n",
      "BelcikaPlayingTime.xlsx işlendi ve be Jupiler Pro League bilgisi eklendi.\n",
      "BelcikaPossession.xlsx işlendi ve be Jupiler Pro League bilgisi eklendi.\n",
      "BelcikaShooting.xlsx işlendi ve be Jupiler Pro League bilgisi eklendi.\n",
      "BesBuyukLigAdvanceGoalkeeping.xlsx için eşleşen lig bulunamadı.\n",
      "BesBuyukLigDefensiveActions.xlsx için eşleşen lig bulunamadı.\n",
      "BesBuyukLigGoalkeeping.xlsx için eşleşen lig bulunamadı.\n",
      "BesBuyukLigMiscellaneousStats.xlsx için eşleşen lig bulunamadı.\n",
      "BesBuyukLigPassing.xlsx için eşleşen lig bulunamadı.\n",
      "BesBuyukLigPassingTypes.xlsx için eşleşen lig bulunamadı.\n",
      "BesBuyukLigPlayingTime.xlsx için eşleşen lig bulunamadı.\n",
      "BesBuyukLigPossession.xlsx için eşleşen lig bulunamadı.\n",
      "BesBuyukLigShooting.xlsx için eşleşen lig bulunamadı.\n",
      "HollandaAdvanceGoalkeeping.xlsx işlendi ve nl Eredivisie bilgisi eklendi.\n",
      "HollandaDefensiveAction.xlsx işlendi ve nl Eredivisie bilgisi eklendi.\n",
      "HollandaGoalkeeping.xlsx işlendi ve nl Eredivisie bilgisi eklendi.\n",
      "HollandaMiscellaneousStats.xlsx işlendi ve nl Eredivisie bilgisi eklendi.\n",
      "HollandaPassing.xlsx işlendi ve nl Eredivisie bilgisi eklendi.\n",
      "HollandaPassTypes.xlsx işlendi ve nl Eredivisie bilgisi eklendi.\n",
      "HollandaPlayingTime.xlsx işlendi ve nl Eredivisie bilgisi eklendi.\n",
      "HollandaPossession.xlsx işlendi ve nl Eredivisie bilgisi eklendi.\n",
      "HollandaShooting.xlsx işlendi ve nl Eredivisie bilgisi eklendi.\n",
      "IngiltereIkinciAdvancedGoalkeeping.xlsx işlendi ve en2 Championship bilgisi eklendi.\n",
      "IngiltereIkinciDefensiveActions.xlsx işlendi ve en2 Championship bilgisi eklendi.\n",
      "IngiltereIkinciGoalkeeping.xlsx işlendi ve en2 Championship bilgisi eklendi.\n",
      "IngiltereIkinciMiscellaneousStats.xlsx işlendi ve en2 Championship bilgisi eklendi.\n",
      "IngiltereIkinciPassing.xlsx işlendi ve en2 Championship bilgisi eklendi.\n",
      "IngiltereIkinciPassingTypes.xlsx işlendi ve en2 Championship bilgisi eklendi.\n",
      "IngiltereIkinciPlayingTime.xlsx işlendi ve en2 Championship bilgisi eklendi.\n",
      "IngiltereIkinciPossession.xlsx işlendi ve en2 Championship bilgisi eklendi.\n",
      "IngiltereIkinciShooting.xlsx işlendi ve en2 Championship bilgisi eklendi.\n",
      "PortekizAdvancedGoalkeeping.xlsx işlendi ve pt Liga Portugal bilgisi eklendi.\n",
      "PortekizDefensiveActions.xlsx işlendi ve pt Liga Portugal bilgisi eklendi.\n",
      "PortekizGoalkeeping.xlsx işlendi ve pt Liga Portugal bilgisi eklendi.\n",
      "PortekizMiscellaneousStats.xlsx işlendi ve pt Liga Portugal bilgisi eklendi.\n",
      "PortekizPassing.xlsx işlendi ve pt Liga Portugal bilgisi eklendi.\n",
      "PortekizPassingTypes.xlsx işlendi ve pt Liga Portugal bilgisi eklendi.\n",
      "PortekizPlayingTime.xlsx işlendi ve pt Liga Portugal bilgisi eklendi.\n",
      "PortekizPossession.xlsx işlendi ve pt Liga Portugal bilgisi eklendi.\n",
      "PortekizShooting.xlsx işlendi ve pt Liga Portugal bilgisi eklendi.\n"
     ]
    }
   ],
   "source": [
    "# Dosyaları tara\n",
    "for dosya in os.listdir(klasor_yolu):\n",
    "    if dosya.endswith(\".xlsx\"):\n",
    "        dosya_yolu = os.path.join(klasor_yolu, dosya)\n",
    "\n",
    "        # Hangi lige ait olduğunu belirle\n",
    "        comp_degeri = None\n",
    "        for anahtar, lig_adi in lig_haritasi.items():\n",
    "            if anahtar in dosya:\n",
    "                comp_degeri = lig_adi\n",
    "                break\n",
    "\n",
    "        if comp_degeri:\n",
    "            try:\n",
    "                df = pd.read_excel(dosya_yolu)\n",
    "                df[\"Comp\"] = comp_degeri\n",
    "\n",
    "                # Yeni klasöre kayıt\n",
    "                os.makedirs(guncellenmis_klasor, exist_ok=True)\n",
    "                yeni_dosya_yolu = os.path.join(guncellenmis_klasor, dosya)\n",
    "                df.to_excel(yeni_dosya_yolu, index=False)\n",
    "\n",
    "                print(f\"{dosya} işlendi ve {comp_degeri} bilgisi eklendi.\")\n",
    "            except Exception as e:\n",
    "                print(f\"{dosya} okunurken hata: {e}\")\n",
    "        else:\n",
    "            print(f\"{dosya} için eşleşen lig bulunamadı.\")"
   ]
  },
  {
   "cell_type": "code",
   "execution_count": null,
   "id": "a5482d8c-9e2c-4cf3-993a-98e12f52410c",
   "metadata": {},
   "outputs": [],
   "source": []
  }
 ],
 "metadata": {
  "kernelspec": {
   "display_name": "Python [conda env:base] *",
   "language": "python",
   "name": "conda-base-py"
  },
  "language_info": {
   "codemirror_mode": {
    "name": "ipython",
    "version": 3
   },
   "file_extension": ".py",
   "mimetype": "text/x-python",
   "name": "python",
   "nbconvert_exporter": "python",
   "pygments_lexer": "ipython3",
   "version": "3.12.7"
  }
 },
 "nbformat": 4,
 "nbformat_minor": 5
}
