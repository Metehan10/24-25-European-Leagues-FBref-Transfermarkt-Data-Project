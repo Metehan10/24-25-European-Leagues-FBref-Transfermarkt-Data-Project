{
 "cells": [
  {
   "cell_type": "code",
   "execution_count": 1,
   "id": "7990fb93-465d-4a7d-bb9c-ccc0a5326600",
   "metadata": {},
   "outputs": [],
   "source": [
    "import os\n",
    "import pandas as pd\n",
    "import pyodbc\n",
    "import numpy as np"
   ]
  },
  {
   "cell_type": "markdown",
   "id": "cd5699e9-d01b-471f-a818-c6cba8259b89",
   "metadata": {},
   "source": [
    "## CSV GRUPLAMA"
   ]
  },
  {
   "cell_type": "code",
   "execution_count": 2,
   "id": "af64ae57-fdfc-4722-ba58-0e48c463881d",
   "metadata": {},
   "outputs": [],
   "source": [
    "#  CSV klasörü\n",
    "klasor_yolu = \"C:/Users/user/Desktop/PROJELER/FutbolcuOneri/fbref/CSV\""
   ]
  },
  {
   "cell_type": "code",
   "execution_count": 3,
   "id": "3c29fda2-1813-49b2-85f3-ed0b7bb164c5",
   "metadata": {},
   "outputs": [],
   "source": [
    "#  Çıktıların kaydedileceği klasör\n",
    "cikti_klasor = \"C:/Users/user/Desktop/PROJELER/FutbolcuOneri/fbref/CSV/birlesik\"\n",
    "os.makedirs(cikti_klasor, exist_ok=True)"
   ]
  },
  {
   "cell_type": "code",
   "execution_count": 4,
   "id": "30c40534-40f5-47c2-863c-585e047be10d",
   "metadata": {},
   "outputs": [],
   "source": [
    "#  Gruplar\n",
    "gruplar = [\n",
    "    \"Shooting\",\n",
    "    \"Possession\",\n",
    "    \"PlayingTime\",\n",
    "    \"PassingTypes\",\n",
    "    \"Passing\",\n",
    "    \"MiscellaneousStats\",\n",
    "    \"Goalkeeping\",\n",
    "    \"DefensiveActions\",\n",
    "    \"AdvancedGoalkeeping\",\n",
    "]"
   ]
  },
  {
   "cell_type": "code",
   "execution_count": 5,
   "id": "e094d490-ff74-4245-bcda-ebe29a2d349d",
   "metadata": {},
   "outputs": [
    {
     "name": "stdout",
     "output_type": "stream",
     "text": [
      "✅ Shooting grubu kaydedildi: C:/Users/user/Desktop/PROJELER/FutbolcuOneri/fbref/CSV/birlesik\\Shooting_birlesik.csv\n",
      "✅ Possession grubu kaydedildi: C:/Users/user/Desktop/PROJELER/FutbolcuOneri/fbref/CSV/birlesik\\Possession_birlesik.csv\n",
      "✅ PlayingTime grubu kaydedildi: C:/Users/user/Desktop/PROJELER/FutbolcuOneri/fbref/CSV/birlesik\\PlayingTime_birlesik.csv\n",
      "✅ PassingTypes grubu kaydedildi: C:/Users/user/Desktop/PROJELER/FutbolcuOneri/fbref/CSV/birlesik\\PassingTypes_birlesik.csv\n",
      "✅ Passing grubu kaydedildi: C:/Users/user/Desktop/PROJELER/FutbolcuOneri/fbref/CSV/birlesik\\Passing_birlesik.csv\n",
      "✅ MiscellaneousStats grubu kaydedildi: C:/Users/user/Desktop/PROJELER/FutbolcuOneri/fbref/CSV/birlesik\\MiscellaneousStats_birlesik.csv\n",
      "✅ Goalkeeping grubu kaydedildi: C:/Users/user/Desktop/PROJELER/FutbolcuOneri/fbref/CSV/birlesik\\Goalkeeping_birlesik.csv\n",
      "✅ DefensiveActions grubu kaydedildi: C:/Users/user/Desktop/PROJELER/FutbolcuOneri/fbref/CSV/birlesik\\DefensiveActions_birlesik.csv\n",
      "✅ AdvancedGoalkeeping grubu kaydedildi: C:/Users/user/Desktop/PROJELER/FutbolcuOneri/fbref/CSV/birlesik\\AdvancedGoalkeeping_birlesik.csv\n"
     ]
    }
   ],
   "source": [
    "for grup in gruplar:\n",
    "    birlesik_df = pd.DataFrame()\n",
    "\n",
    "    for dosya in os.listdir(klasor_yolu):\n",
    "        if dosya.lower().endswith(\".csv\") and grup.lower() in dosya.lower():\n",
    "            dosya_yolu = os.path.join(klasor_yolu, dosya)\n",
    "            df = pd.read_csv(dosya_yolu)\n",
    "            birlesik_df = pd.concat([birlesik_df, df], ignore_index=True)\n",
    "\n",
    "    if not birlesik_df.empty:\n",
    "        kayit_yolu = os.path.join(cikti_klasor, f\"{grup}_birlesik.csv\")\n",
    "        birlesik_df.to_csv(kayit_yolu, index=False, encoding=\"utf-8-sig\")\n",
    "        print(f\"✅ {grup} grubu kaydedildi: {kayit_yolu}\")\n",
    "    else:\n",
    "        print(f\"⚠️ {grup} grubuna ait CSV bulunamadı.\")"
   ]
  },
  {
   "cell_type": "markdown",
   "id": "ded50fb7-caf9-4ab8-bbd7-a1e4c5dbace8",
   "metadata": {},
   "source": [
    "## XLSX GRUPLAMA"
   ]
  },
  {
   "cell_type": "code",
   "execution_count": 1,
   "id": "c1e8197a-b73d-4370-8491-995d6da8722f",
   "metadata": {},
   "outputs": [],
   "source": [
    "import os\n",
    "import pandas as pd"
   ]
  },
  {
   "cell_type": "code",
   "execution_count": 2,
   "id": "89f985a2-7ec1-457b-ad71-7990b12eb6a8",
   "metadata": {},
   "outputs": [],
   "source": [
    "#  Excel dosyalarının bulunduğu klasör\n",
    "klasor_yolu = \"C:/Users/user/Desktop/PROJELER/FutbolcuOneri/fbref\""
   ]
  },
  {
   "cell_type": "code",
   "execution_count": 3,
   "id": "48a09953-aadf-4487-93c4-a451205dcfd1",
   "metadata": {},
   "outputs": [],
   "source": [
    "#  Çıktıların kaydedileceği klasör\n",
    "cikti_klasor = \"C:/Users/user/Desktop/PROJELER/FutbolcuOneri/fbref/XLSX/birlesik\"\n",
    "os.makedirs(cikti_klasor, exist_ok=True)"
   ]
  },
  {
   "cell_type": "code",
   "execution_count": 4,
   "id": "ecc85c9a-5442-44e4-adaf-bda64bd410d6",
   "metadata": {},
   "outputs": [],
   "source": [
    "#  Gruplar\n",
    "gruplar = [\n",
    "    \"Shooting\",\n",
    "    \"Possession\",\n",
    "    \"PlayingTime\",\n",
    "    \"PassingTypes\",\n",
    "    \"Passing\",\n",
    "    \"MiscellaneousStats\",\n",
    "    \"Goalkeeping\",\n",
    "    \"DefensiveActions\",\n",
    "    \"AdvancedGoalkeeping\",\n",
    "]"
   ]
  },
  {
   "cell_type": "code",
   "execution_count": 5,
   "id": "9a5ac031-0660-447d-bfc9-a4d427118ef4",
   "metadata": {},
   "outputs": [
    {
     "name": "stdout",
     "output_type": "stream",
     "text": [
      "✅ Shooting grubu kaydedildi: C:/Users/user/Desktop/PROJELER/FutbolcuOneri/fbref/XLSX/birlesik\\Shooting_birlesik.xlsx\n",
      "✅ Possession grubu kaydedildi: C:/Users/user/Desktop/PROJELER/FutbolcuOneri/fbref/XLSX/birlesik\\Possession_birlesik.xlsx\n",
      "✅ PlayingTime grubu kaydedildi: C:/Users/user/Desktop/PROJELER/FutbolcuOneri/fbref/XLSX/birlesik\\PlayingTime_birlesik.xlsx\n",
      "✅ PassingTypes grubu kaydedildi: C:/Users/user/Desktop/PROJELER/FutbolcuOneri/fbref/XLSX/birlesik\\PassingTypes_birlesik.xlsx\n",
      "✅ Passing grubu kaydedildi: C:/Users/user/Desktop/PROJELER/FutbolcuOneri/fbref/XLSX/birlesik\\Passing_birlesik.xlsx\n",
      "✅ MiscellaneousStats grubu kaydedildi: C:/Users/user/Desktop/PROJELER/FutbolcuOneri/fbref/XLSX/birlesik\\MiscellaneousStats_birlesik.xlsx\n",
      "✅ Goalkeeping grubu kaydedildi: C:/Users/user/Desktop/PROJELER/FutbolcuOneri/fbref/XLSX/birlesik\\Goalkeeping_birlesik.xlsx\n",
      "✅ DefensiveActions grubu kaydedildi: C:/Users/user/Desktop/PROJELER/FutbolcuOneri/fbref/XLSX/birlesik\\DefensiveActions_birlesik.xlsx\n",
      "✅ AdvancedGoalkeeping grubu kaydedildi: C:/Users/user/Desktop/PROJELER/FutbolcuOneri/fbref/XLSX/birlesik\\AdvancedGoalkeeping_birlesik.xlsx\n"
     ]
    }
   ],
   "source": [
    "for grup in gruplar:\n",
    "    birlesik_df = pd.DataFrame()\n",
    "\n",
    "    for dosya in os.listdir(klasor_yolu):\n",
    "        if dosya.lower().endswith(\".xlsx\") and grup.lower() in dosya.lower():\n",
    "            dosya_yolu = os.path.join(klasor_yolu, dosya)\n",
    "            df = pd.read_excel(dosya_yolu)  # 🟢 Excel dosyasını oku\n",
    "            birlesik_df = pd.concat([birlesik_df, df], ignore_index=True)\n",
    "\n",
    "    if not birlesik_df.empty:\n",
    "        kayit_yolu = os.path.join(cikti_klasor, f\"{grup}_birlesik.xlsx\")\n",
    "        birlesik_df.to_excel(kayit_yolu, index=False)  # 🟢 Excel olarak kaydet\n",
    "        print(f\"✅ {grup} grubu kaydedildi: {kayit_yolu}\")\n",
    "    else:\n",
    "        print(f\"⚠️ {grup} grubuna ait Excel dosyası bulunamadı.\")"
   ]
  },
  {
   "cell_type": "code",
   "execution_count": null,
   "id": "2a1a2a47-cad0-47bb-ab83-b23cb84365da",
   "metadata": {},
   "outputs": [],
   "source": []
  }
 ],
 "metadata": {
  "kernelspec": {
   "display_name": "Python [conda env:base] *",
   "language": "python",
   "name": "conda-base-py"
  },
  "language_info": {
   "codemirror_mode": {
    "name": "ipython",
    "version": 3
   },
   "file_extension": ".py",
   "mimetype": "text/x-python",
   "name": "python",
   "nbconvert_exporter": "python",
   "pygments_lexer": "ipython3",
   "version": "3.12.7"
  }
 },
 "nbformat": 4,
 "nbformat_minor": 5
}
