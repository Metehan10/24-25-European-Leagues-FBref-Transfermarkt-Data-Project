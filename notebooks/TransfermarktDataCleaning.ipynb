{
 "cells": [
  {
   "cell_type": "markdown",
   "id": "9cef3bd2-8207-450a-ab52-10459b58c8c3",
   "metadata": {},
   "source": [
    "## transfermarkt load"
   ]
  },
  {
   "cell_type": "code",
   "execution_count": 26,
   "id": "dd04113d-5101-4c08-a418-49cce11ad242",
   "metadata": {
    "scrolled": true
   },
   "outputs": [],
   "source": [
    "belcika_market_values = pd.read_csv('C:/Users/user/Desktop/PROJELER/FutbolcuOneri/transfermarkt/guncellenmis/csv/belcika_market_values.csv')\n",
    "fransa_market_values = pd.read_csv('C:/Users/user/Desktop/PROJELER/FutbolcuOneri/transfermarkt/guncellenmis/csv/fransa_market_values.csv')\n",
    "hollanda_market_values = pd.read_csv('C:/Users/user/Desktop/PROJELER/FutbolcuOneri/transfermarkt/guncellenmis/csv/hollanda_market_values.csv')\n",
    "ingiltere_ikinci_market_values = pd.read_csv('C:/Users/user/Desktop/PROJELER/FutbolcuOneri/transfermarkt/guncellenmis/csv/ingiltere_ikinci_market_values.csv')\n",
    "ingiltere_market_values = pd.read_csv('C:/Users/user/Desktop/PROJELER/FutbolcuOneri/transfermarkt/guncellenmis/csv/ingiltere_market_values.csv')\n",
    "ispanya_market_values = pd.read_csv('C:/Users/user/Desktop/PROJELER/FutbolcuOneri/transfermarkt/guncellenmis/csv/ispanya_market_values.csv')\n",
    "italya_market_values = pd.read_csv('C:/Users/user/Desktop/PROJELER/FutbolcuOneri/transfermarkt/guncellenmis/csv/italya_market_values.csv')\n",
    "portekiz_market_values = pd.read_csv('C:/Users/user/Desktop/PROJELER/FutbolcuOneri/transfermarkt/guncellenmis/csv/portekiz_market_values.csv')"
   ]
  },
  {
   "cell_type": "markdown",
   "id": "fad5de27-52e5-4b0a-8075-2993675be6a9",
   "metadata": {},
   "source": [
    "## transfermarkt concat"
   ]
  },
  {
   "cell_type": "code",
   "execution_count": 27,
   "id": "992807c4-369e-429d-948a-90497d13dcba",
   "metadata": {},
   "outputs": [],
   "source": [
    "transfermarkt= pd.concat([belcika_market_values,fransa_market_values,hollanda_market_values,ingiltere_ikinci_market_values,\n",
    "                          ingiltere_market_values,ispanya_market_values,italya_market_values,portekiz_market_values],axis=0)"
   ]
  },
  {
   "cell_type": "markdown",
   "id": "824f4d03-f9a2-4a66-becf-805f4b6d3327",
   "metadata": {},
   "source": [
    "## transfermarkt drop"
   ]
  },
  {
   "cell_type": "code",
   "execution_count": 28,
   "id": "b1204ae8-3949-4258-8cc2-63d04833881f",
   "metadata": {},
   "outputs": [],
   "source": [
    "transfermarkt.drop(\"Unnamed: 0.1\",axis=1,inplace=True)\n",
    "transfermarkt.drop(\"Unnamed: 0\",axis=1,inplace=True)\n",
    "transfermarkt.drop(\"age\",axis=1,inplace=True)"
   ]
  },
  {
   "cell_type": "code",
   "execution_count": 29,
   "id": "8df19332-a1ca-44fb-9035-f31d14a8b7c7",
   "metadata": {},
   "outputs": [
    {
     "data": {
      "text/html": [
       "<div>\n",
       "<style scoped>\n",
       "    .dataframe tbody tr th:only-of-type {\n",
       "        vertical-align: middle;\n",
       "    }\n",
       "\n",
       "    .dataframe tbody tr th {\n",
       "        vertical-align: top;\n",
       "    }\n",
       "\n",
       "    .dataframe thead th {\n",
       "        text-align: right;\n",
       "    }\n",
       "</style>\n",
       "<table border=\"1\" class=\"dataframe\">\n",
       "  <thead>\n",
       "    <tr style=\"text-align: right;\">\n",
       "      <th></th>\n",
       "      <th>name</th>\n",
       "      <th>club</th>\n",
       "      <th>deger</th>\n",
       "      <th>position</th>\n",
       "      <th>Market_Value</th>\n",
       "      <th>Comp</th>\n",
       "    </tr>\n",
       "  </thead>\n",
       "  <tbody>\n",
       "    <tr>\n",
       "      <th>0</th>\n",
       "      <td>Mike Penders</td>\n",
       "      <td>KRC Genk</td>\n",
       "      <td>€10.00m</td>\n",
       "      <td>Goalkeeper</td>\n",
       "      <td>10000000</td>\n",
       "      <td>be Jupiler Pro League</td>\n",
       "    </tr>\n",
       "    <tr>\n",
       "      <th>1</th>\n",
       "      <td>Senne Lammens</td>\n",
       "      <td>Royal Antwerp FC</td>\n",
       "      <td>€7.50m</td>\n",
       "      <td>Goalkeeper</td>\n",
       "      <td>7500000</td>\n",
       "      <td>be Jupiler Pro League</td>\n",
       "    </tr>\n",
       "    <tr>\n",
       "      <th>2</th>\n",
       "      <td>Tobe Leysen</td>\n",
       "      <td>Oud-Heverlee Leuven</td>\n",
       "      <td>€3.50m</td>\n",
       "      <td>Goalkeeper</td>\n",
       "      <td>3500000</td>\n",
       "      <td>be Jupiler Pro League</td>\n",
       "    </tr>\n",
       "    <tr>\n",
       "      <th>3</th>\n",
       "      <td>Warleson</td>\n",
       "      <td>Cercle Brugge</td>\n",
       "      <td>€3.00m</td>\n",
       "      <td>Goalkeeper</td>\n",
       "      <td>3000000</td>\n",
       "      <td>be Jupiler Pro League</td>\n",
       "    </tr>\n",
       "    <tr>\n",
       "      <th>4</th>\n",
       "      <td>Matthieu Epolo</td>\n",
       "      <td>Standard Liège</td>\n",
       "      <td>€3.00m</td>\n",
       "      <td>Goalkeeper</td>\n",
       "      <td>3000000</td>\n",
       "      <td>be Jupiler Pro League</td>\n",
       "    </tr>\n",
       "    <tr>\n",
       "      <th>...</th>\n",
       "      <td>...</td>\n",
       "      <td>...</td>\n",
       "      <td>...</td>\n",
       "      <td>...</td>\n",
       "      <td>...</td>\n",
       "      <td>...</td>\n",
       "    </tr>\n",
       "    <tr>\n",
       "      <th>468</th>\n",
       "      <td>Joel Jorquera</td>\n",
       "      <td>Moreirense FC</td>\n",
       "      <td>€200k</td>\n",
       "      <td>Left Winger</td>\n",
       "      <td>200000</td>\n",
       "      <td>pt Liga Portugal</td>\n",
       "    </tr>\n",
       "    <tr>\n",
       "      <th>469</th>\n",
       "      <td>João Barros</td>\n",
       "      <td>Boavista FC</td>\n",
       "      <td>€150k</td>\n",
       "      <td>Left Winger</td>\n",
       "      <td>150000</td>\n",
       "      <td>pt Liga Portugal</td>\n",
       "    </tr>\n",
       "    <tr>\n",
       "      <th>470</th>\n",
       "      <td>Tim</td>\n",
       "      <td>Rio Ave FC</td>\n",
       "      <td>€150k</td>\n",
       "      <td>Left Winger</td>\n",
       "      <td>150000</td>\n",
       "      <td>pt Liga Portugal</td>\n",
       "    </tr>\n",
       "    <tr>\n",
       "      <th>471</th>\n",
       "      <td>Marco Matias</td>\n",
       "      <td>SC Farense</td>\n",
       "      <td>€100k</td>\n",
       "      <td>Left Winger</td>\n",
       "      <td>100000</td>\n",
       "      <td>pt Liga Portugal</td>\n",
       "    </tr>\n",
       "    <tr>\n",
       "      <th>472</th>\n",
       "      <td>Mamede</td>\n",
       "      <td>CF Estrela Amadora</td>\n",
       "      <td>€100k</td>\n",
       "      <td>Left Winger</td>\n",
       "      <td>100000</td>\n",
       "      <td>pt Liga Portugal</td>\n",
       "    </tr>\n",
       "  </tbody>\n",
       "</table>\n",
       "<p>4125 rows × 6 columns</p>\n",
       "</div>"
      ],
      "text/plain": [
       "               name                 club    deger     position  Market_Value  \\\n",
       "0      Mike Penders             KRC Genk  €10.00m   Goalkeeper      10000000   \n",
       "1     Senne Lammens     Royal Antwerp FC   €7.50m   Goalkeeper       7500000   \n",
       "2       Tobe Leysen  Oud-Heverlee Leuven   €3.50m   Goalkeeper       3500000   \n",
       "3          Warleson       Cercle Brugge    €3.00m   Goalkeeper       3000000   \n",
       "4    Matthieu Epolo       Standard Liège   €3.00m   Goalkeeper       3000000   \n",
       "..              ...                  ...      ...          ...           ...   \n",
       "468   Joel Jorquera        Moreirense FC    €200k  Left Winger        200000   \n",
       "469     João Barros          Boavista FC    €150k  Left Winger        150000   \n",
       "470             Tim           Rio Ave FC    €150k  Left Winger        150000   \n",
       "471    Marco Matias           SC Farense    €100k  Left Winger        100000   \n",
       "472          Mamede   CF Estrela Amadora    €100k  Left Winger        100000   \n",
       "\n",
       "                      Comp  \n",
       "0    be Jupiler Pro League  \n",
       "1    be Jupiler Pro League  \n",
       "2    be Jupiler Pro League  \n",
       "3    be Jupiler Pro League  \n",
       "4    be Jupiler Pro League  \n",
       "..                     ...  \n",
       "468       pt Liga Portugal  \n",
       "469       pt Liga Portugal  \n",
       "470       pt Liga Portugal  \n",
       "471       pt Liga Portugal  \n",
       "472       pt Liga Portugal  \n",
       "\n",
       "[4125 rows x 6 columns]"
      ]
     },
     "execution_count": 29,
     "metadata": {},
     "output_type": "execute_result"
    }
   ],
   "source": [
    "transfermarkt"
   ]
  },
  {
   "cell_type": "code",
   "execution_count": 31,
   "id": "d0658864-5432-41be-a424-b3c84afabd2f",
   "metadata": {},
   "outputs": [],
   "source": [
    "transfermarkt = pd.DataFrame(transfermarkt)"
   ]
  },
  {
   "cell_type": "code",
   "execution_count": 32,
   "id": "7ef6c108-d4c8-418e-96ee-5903c558d542",
   "metadata": {},
   "outputs": [],
   "source": [
    "transfermarkt.to_excel('transfermarkt.xlsx')"
   ]
  }
 ],
 "metadata": {
  "kernelspec": {
   "display_name": "Python [conda env:base] *",
   "language": "python",
   "name": "conda-base-py"
  },
  "language_info": {
   "codemirror_mode": {
    "name": "ipython",
    "version": 3
   },
   "file_extension": ".py",
   "mimetype": "text/x-python",
   "name": "python",
   "nbconvert_exporter": "python",
   "pygments_lexer": "ipython3",
   "version": "3.12.7"
  }
 },
 "nbformat": 4,
 "nbformat_minor": 5
}
